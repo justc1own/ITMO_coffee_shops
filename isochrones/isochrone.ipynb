{
  "nbformat": 4,
  "nbformat_minor": 0,
  "metadata": {
    "colab": {
      "provenance": []
    },
    "kernelspec": {
      "name": "python3",
      "display_name": "Python 3"
    },
    "language_info": {
      "name": "python"
    }
  },
  "cells": [
    {
      "cell_type": "code",
      "source": [
        "pip install osmnx geopandas matplotlib shapely"
      ],
      "metadata": {
        "colab": {
          "base_uri": "https://localhost:8080/"
        },
        "id": "LlB1TxjqbMgn",
        "outputId": "6865d3a0-8c9f-49f8-bf09-c74105dd92f5"
      },
      "execution_count": 1,
      "outputs": [
        {
          "output_type": "stream",
          "name": "stdout",
          "text": [
            "Collecting osmnx\n",
            "  Downloading osmnx-2.0.5-py3-none-any.whl.metadata (4.9 kB)\n",
            "Requirement already satisfied: geopandas in /usr/local/lib/python3.11/dist-packages (1.0.1)\n",
            "Requirement already satisfied: matplotlib in /usr/local/lib/python3.11/dist-packages (3.10.0)\n",
            "Requirement already satisfied: shapely in /usr/local/lib/python3.11/dist-packages (2.1.1)\n",
            "Requirement already satisfied: networkx>=2.5 in /usr/local/lib/python3.11/dist-packages (from osmnx) (3.5)\n",
            "Requirement already satisfied: numpy>=1.22 in /usr/local/lib/python3.11/dist-packages (from osmnx) (2.0.2)\n",
            "Requirement already satisfied: pandas>=1.4 in /usr/local/lib/python3.11/dist-packages (from osmnx) (2.2.2)\n",
            "Requirement already satisfied: requests>=2.27 in /usr/local/lib/python3.11/dist-packages (from osmnx) (2.32.3)\n",
            "Requirement already satisfied: pyogrio>=0.7.2 in /usr/local/lib/python3.11/dist-packages (from geopandas) (0.11.0)\n",
            "Requirement already satisfied: packaging in /usr/local/lib/python3.11/dist-packages (from geopandas) (24.2)\n",
            "Requirement already satisfied: pyproj>=3.3.0 in /usr/local/lib/python3.11/dist-packages (from geopandas) (3.7.1)\n",
            "Requirement already satisfied: contourpy>=1.0.1 in /usr/local/lib/python3.11/dist-packages (from matplotlib) (1.3.2)\n",
            "Requirement already satisfied: cycler>=0.10 in /usr/local/lib/python3.11/dist-packages (from matplotlib) (0.12.1)\n",
            "Requirement already satisfied: fonttools>=4.22.0 in /usr/local/lib/python3.11/dist-packages (from matplotlib) (4.58.5)\n",
            "Requirement already satisfied: kiwisolver>=1.3.1 in /usr/local/lib/python3.11/dist-packages (from matplotlib) (1.4.8)\n",
            "Requirement already satisfied: pillow>=8 in /usr/local/lib/python3.11/dist-packages (from matplotlib) (11.2.1)\n",
            "Requirement already satisfied: pyparsing>=2.3.1 in /usr/local/lib/python3.11/dist-packages (from matplotlib) (3.2.3)\n",
            "Requirement already satisfied: python-dateutil>=2.7 in /usr/local/lib/python3.11/dist-packages (from matplotlib) (2.9.0.post0)\n",
            "Requirement already satisfied: pytz>=2020.1 in /usr/local/lib/python3.11/dist-packages (from pandas>=1.4->osmnx) (2025.2)\n",
            "Requirement already satisfied: tzdata>=2022.7 in /usr/local/lib/python3.11/dist-packages (from pandas>=1.4->osmnx) (2025.2)\n",
            "Requirement already satisfied: certifi in /usr/local/lib/python3.11/dist-packages (from pyogrio>=0.7.2->geopandas) (2025.6.15)\n",
            "Requirement already satisfied: six>=1.5 in /usr/local/lib/python3.11/dist-packages (from python-dateutil>=2.7->matplotlib) (1.17.0)\n",
            "Requirement already satisfied: charset-normalizer<4,>=2 in /usr/local/lib/python3.11/dist-packages (from requests>=2.27->osmnx) (3.4.2)\n",
            "Requirement already satisfied: idna<4,>=2.5 in /usr/local/lib/python3.11/dist-packages (from requests>=2.27->osmnx) (3.10)\n",
            "Requirement already satisfied: urllib3<3,>=1.21.1 in /usr/local/lib/python3.11/dist-packages (from requests>=2.27->osmnx) (2.4.0)\n",
            "Downloading osmnx-2.0.5-py3-none-any.whl (101 kB)\n",
            "\u001b[2K   \u001b[90m━━━━━━━━━━━━━━━━━━━━━━━━━━━━━━━━━━━━━━━━\u001b[0m \u001b[32m101.3/101.3 kB\u001b[0m \u001b[31m2.5 MB/s\u001b[0m eta \u001b[36m0:00:00\u001b[0m\n",
            "\u001b[?25hInstalling collected packages: osmnx\n",
            "Successfully installed osmnx-2.0.5\n"
          ]
        }
      ]
    },
    {
      "cell_type": "code",
      "source": [
        "pip install alphashape"
      ],
      "metadata": {
        "colab": {
          "base_uri": "https://localhost:8080/"
        },
        "id": "OxdC2tJrbKpX",
        "outputId": "27b143d4-37ec-4181-8c64-73d70790b977"
      },
      "execution_count": 2,
      "outputs": [
        {
          "output_type": "stream",
          "name": "stdout",
          "text": [
            "Collecting alphashape\n",
            "  Downloading alphashape-1.3.1-py2.py3-none-any.whl.metadata (18 kB)\n",
            "Requirement already satisfied: Click>=6.0 in /usr/local/lib/python3.11/dist-packages (from alphashape) (8.2.1)\n",
            "Collecting click-log>=0.3.2 (from alphashape)\n",
            "  Downloading click_log-0.4.0-py2.py3-none-any.whl.metadata (1.2 kB)\n",
            "Requirement already satisfied: shapely>=1.4.0 in /usr/local/lib/python3.11/dist-packages (from alphashape) (2.1.1)\n",
            "Requirement already satisfied: numpy>=1.8.0 in /usr/local/lib/python3.11/dist-packages (from alphashape) (2.0.2)\n",
            "Collecting trimesh>=3.9.8 (from alphashape)\n",
            "  Downloading trimesh-4.7.0-py3-none-any.whl.metadata (18 kB)\n",
            "Requirement already satisfied: networkx>=2.5 in /usr/local/lib/python3.11/dist-packages (from alphashape) (3.5)\n",
            "Collecting rtree>=0.9.7 (from alphashape)\n",
            "  Downloading rtree-1.4.0-py3-none-manylinux2014_x86_64.manylinux_2_17_x86_64.whl.metadata (2.1 kB)\n",
            "Requirement already satisfied: scipy>=1.0.0 in /usr/local/lib/python3.11/dist-packages (from alphashape) (1.15.3)\n",
            "Downloading alphashape-1.3.1-py2.py3-none-any.whl (13 kB)\n",
            "Downloading click_log-0.4.0-py2.py3-none-any.whl (4.3 kB)\n",
            "Downloading rtree-1.4.0-py3-none-manylinux2014_x86_64.manylinux_2_17_x86_64.whl (541 kB)\n",
            "\u001b[2K   \u001b[90m━━━━━━━━━━━━━━━━━━━━━━━━━━━━━━━━━━━━━━━━\u001b[0m \u001b[32m541.1/541.1 kB\u001b[0m \u001b[31m7.6 MB/s\u001b[0m eta \u001b[36m0:00:00\u001b[0m\n",
            "\u001b[?25hDownloading trimesh-4.7.0-py3-none-any.whl (708 kB)\n",
            "\u001b[2K   \u001b[90m━━━━━━━━━━━━━━━━━━━━━━━━━━━━━━━━━━━━━━━━\u001b[0m \u001b[32m708.8/708.8 kB\u001b[0m \u001b[31m13.3 MB/s\u001b[0m eta \u001b[36m0:00:00\u001b[0m\n",
            "\u001b[?25hInstalling collected packages: trimesh, rtree, click-log, alphashape\n",
            "Successfully installed alphashape-1.3.1 click-log-0.4.0 rtree-1.4.0 trimesh-4.7.0\n"
          ]
        }
      ]
    },
    {
      "cell_type": "code",
      "execution_count": 3,
      "metadata": {
        "id": "LUFW_yvwaOUP"
      },
      "outputs": [],
      "source": [
        "import osmnx as ox\n",
        "import networkx as nx\n",
        "import geopandas as gpd\n",
        "import folium\n",
        "from folium.plugins import MarkerCluster\n",
        "import time\n",
        "from shapely.geometry import Point, Polygon, MultiPoint\n",
        "import numpy as np\n",
        "from scipy.spatial import Delaunay  # Правильный импорт Delaunay\n",
        "import math\n",
        "\n"
      ]
    },
    {
      "cell_type": "code",
      "source": [
        "ox.settings.log_console = True\n",
        "ox.settings.use_cache = True\n",
        "ox.settings.timeout = 600  # Увеличим таймаут для Москвы\n",
        "\n",
        "# Загрузка пешеходной сети для Москвы\n",
        "print(\"Загрузка дорожной сети Москвы...\")\n",
        "place_name = \"Moscow, Russia\"\n",
        "G = ox.graph_from_place(place_name, network_type='walk')\n"
      ],
      "metadata": {
        "colab": {
          "base_uri": "https://localhost:8080/"
        },
        "id": "XgrkEfhnbKsL",
        "outputId": "5448d37c-709a-462a-dd90-31801e0ebb31"
      },
      "execution_count": 4,
      "outputs": [
        {
          "output_type": "stream",
          "name": "stdout",
          "text": [
            "Загрузка дорожной сети Москвы...\n"
          ]
        }
      ]
    },
    {
      "cell_type": "code",
      "source": [
        "\n"
      ],
      "metadata": {
        "id": "o3GkKGlIf_UO"
      },
      "execution_count": 4,
      "outputs": []
    },
    {
      "cell_type": "code",
      "source": [
        "import pickle"
      ],
      "metadata": {
        "id": "YRzpsJu5f-LS"
      },
      "execution_count": 5,
      "outputs": []
    },
    {
      "cell_type": "code",
      "source": [
        "with open('moscow_walk_graph.pkl', 'wb') as f:\n",
        "    pickle.dump(G, f)"
      ],
      "metadata": {
        "id": "TiWiV-yhgEP1"
      },
      "execution_count": 6,
      "outputs": []
    },
    {
      "cell_type": "code",
      "source": [
        "GRAPH_FILENAME = \"moscow_walk_graph.graphml\"\n",
        "ox.save_graphml(G, GRAPH_FILENAME)\n",
        "print(f\"Граф сохранен в файл: {GRAPH_FILENAME}\")"
      ],
      "metadata": {
        "colab": {
          "base_uri": "https://localhost:8080/"
        },
        "id": "ZInzHf5abi2e",
        "outputId": "3fa2d1eb-0361-4a82-99d7-93ecae2409dc"
      },
      "execution_count": 7,
      "outputs": [
        {
          "output_type": "stream",
          "name": "stdout",
          "text": [
            "Граф сохранен в файл: moscow_walk_graph.graphml\n"
          ]
        }
      ]
    },
    {
      "cell_type": "code",
      "source": [
        "import alphashape"
      ],
      "metadata": {
        "id": "6ubZlDGobi46"
      },
      "execution_count": null,
      "outputs": []
    },
    {
      "cell_type": "code",
      "source": [
        "# Изохрона на 3 минуты\n",
        "#iso_time = 3\n",
        "\n",
        "\n",
        "def create_isochrone(latitude, longitude, walking_speed, iso_time):\n",
        "    # Выбор начальной точки (на рандом ткнул)\n",
        "    #latitude, longitude = 55.762616, 37.613106\n",
        "    #print(f\"Начальная точка: {latitude}, {longitude}\")\n",
        "    start_node = ox.distance.nearest_nodes(G, longitude, latitude)\n",
        "\n",
        "    edge_lengths = nx.get_edge_attributes(G, 'length')\n",
        "\n",
        "    # Создаем взвешенный граф для расчета времени\n",
        "    for u, v, k in G.edges(keys=True):\n",
        "        length = edge_lengths.get((u, v, k), 0)\n",
        "        # Время в минутах: расстояние(м) / (скорость(км/ч) * 1000 / 60)\n",
        "        G[u][v][k]['travel_time'] = length / (walking_speed * 1000 / 60)\n",
        "\n",
        "    # Рассчитываем время пути\n",
        "    travel_times_min = nx.single_source_dijkstra_path_length(\n",
        "        G,\n",
        "        start_node,\n",
        "        weight='travel_time'\n",
        "    )\n",
        "\n",
        "    reached_nodes = [node for node, time in travel_times_min.items() if time <= iso_time]\n",
        "    # Создаем GeoDataFrame с достижимыми точкам\n",
        "    points = [Point(G.nodes[node]['x'], G.nodes[node]['y']) for node in reached_nodes]\n",
        "    gdf_nodes = gpd.GeoDataFrame(geometry=points, crs=\"EPSG:4326\")\n",
        "\n",
        "    gdf_nodes_utm = gdf_nodes.to_crs(gdf_nodes.estimate_utm_crs())\n",
        "    points_utm = [(point.x, point.y) for point in gdf_nodes_utm.geometry]\n",
        "\n",
        "    # Создаем полигон изохроны\n",
        "    #print(\"Создание полигона изохроны...\")\n",
        "    #print(\"from\", points_utm)\n",
        "    iso_polygon_utm = MultiPoint(points_utm).convex_hull\n",
        "    #------------------iso_polygon_utm = alpha_shape(points_utm)#_utm, alpha=0.01  # alpha регулирует детализацию\n",
        "    #iso_polygon_wgs = gpd.GeoSeries(iso_polygon_utm, crs=gdf_nodes_utm.crs).to_crs(4326).iloc[0]\n",
        "\n",
        "    #Мы берем CRS из GeoDataFrame с точками в UTM.\n",
        "    iso_gdf_utm = gpd.GeoDataFrame(geometry=[iso_polygon_utm], crs=gdf_nodes_utm.crs)\n",
        "    iso_gdf = iso_gdf_utm.to_crs(\"EPSG:4326\")\n",
        "\n",
        "    #return iso_gdf\n",
        "    filename = f\"moscow_{walking_speed}min_isochrone{latitude}_{longitude}.geojson\"\n",
        "    iso_gdf.to_file(filename, driver=\"GeoJSON\")\n",
        "    print(f\"Изохрона сохранена в: {filename}\")\n",
        "\n",
        "    # Сохраняем изохрону в GeoJSON\n",
        "    #iso_gdf = gpd.GeoDataFrame(geometry=[iso_polygon_utm], crs=\"EPSG:4326\")\n",
        "    #iso_gdf.to_file(f\"moscow_{walking_speed}min_isochrone{latitude}_{longitude}.geojson\", driver=\"GeoJSON\")\n",
        "    #print(f\"Изохрона сохранена в: moscow_{walking_speed}min_isochrone{latitude}_{longitude}.geojson\")\n"
      ],
      "metadata": {
        "id": "Mv4YEDRSbi7q"
      },
      "execution_count": 8,
      "outputs": []
    },
    {
      "cell_type": "code",
      "source": [
        "create_isochrone(55.756862, 37.588718, 4.5, 10)"
      ],
      "metadata": {
        "colab": {
          "base_uri": "https://localhost:8080/"
        },
        "id": "_QwIYI6Hbi-S",
        "outputId": "eff1fad3-87ed-4f8d-cc74-563f84dc1f70"
      },
      "execution_count": 9,
      "outputs": [
        {
          "output_type": "stream",
          "name": "stdout",
          "text": [
            "Изохрона сохранена в: moscow_4.5min_isochrone55.756862_37.588718.geojson\n"
          ]
        }
      ]
    },
    {
      "cell_type": "code",
      "source": [
        "# Создаем интерактивную карту\n",
        "latitude, longitude = 55.756862, 37.588718\n",
        "iso_time = 10\n",
        "walking_speed = 4.5\n",
        "print(\"Создание интерактивной карты...\")\n",
        "m = folium.Map(location=[latitude, longitude],\n",
        "               zoom_start=17,\n",
        "               tiles='cartodbpositron')\n",
        "\n",
        "# Добавляем изохрону\n",
        "#iso_gdf = gpd.read_file(f\"moscow_{walking_speed}min_isochrone{latitude}_{longitude}.geojson\")\n",
        "iso_gdf = gpd.read_file(f\"moscow_{walking_speed}min_isochrone{latitude}_{longitude}.geojson\")\n",
        "#iso_gdf = iso_gdf.to_crs(\"EPSG:4326\")\n",
        "\n",
        "folium.GeoJson(\n",
        "    iso_gdf,\n",
        "    style_function=lambda x: {\n",
        "        'fillColor': '#1abc9c',\n",
        "        'color': '#16a085',\n",
        "        'weight': 3,\n",
        "        'fillOpacity': 0.45\n",
        "    },\n",
        "    tooltip=f'{iso_time} min walk area'\n",
        ").add_to(m)\n",
        "\n",
        "# Добавляем стартовую точку\n",
        "folium.Marker(\n",
        "    [latitude, longitude],\n",
        "    icon=folium.Icon(color='red', icon='star', prefix='fa'),\n",
        "    tooltip='Start: Red Square'\n",
        ").add_to(m)\n",
        "\n",
        "# Добавляем дорожную сеть (упрощенную)\n",
        "print(\"Добавление дорожной сети на карту...\")\n",
        "edges = ox.graph_to_gdfs(G, nodes=False)\n",
        "for _, row in edges.sample(500).iterrows():\n",
        "    folium.PolyLine(\n",
        "        locations=[(point[1], point[0]) for point in row['geometry'].coords],\n",
        "        color='#7f8c8d',\n",
        "        weight=1,\n",
        "        opacity=0.3\n",
        "    ).add_to(m)\n",
        "\n",
        "# Сохраняем карту\n",
        "m.save(f'moscow_{walking_speed}min_isochrone{latitude}_{longitude}.html')\n",
        "print(f\"Интерактивная карта сохранена в: moscow_{walking_speed}min_isochrone{latitude}_{longitude}.html\")\n",
        "print(\"Откройте файл в браузере для просмотра\")"
      ],
      "metadata": {
        "colab": {
          "base_uri": "https://localhost:8080/"
        },
        "id": "NuLYpW1zbUud",
        "outputId": "583eabd3-d07b-45b4-89dc-e20ce2e43d33"
      },
      "execution_count": null,
      "outputs": [
        {
          "output_type": "stream",
          "name": "stdout",
          "text": [
            "Создание интерактивной карты...\n",
            "Добавление дорожной сети на карту...\n"
          ]
        }
      ]
    },
    {
      "cell_type": "code",
      "source": [
        "# прочитать датафрейм\n",
        "import pandas as pd"
      ],
      "metadata": {
        "id": "wjPrqYWZRe7-"
      },
      "execution_count": null,
      "outputs": []
    },
    {
      "cell_type": "code",
      "source": [],
      "metadata": {
        "id": "tRJf4xC_V2nA"
      },
      "execution_count": null,
      "outputs": []
    },
    {
      "cell_type": "code",
      "source": [
        "points_df = pd.read_csv(\"all_cafes_cleaned.csv\")\n",
        "points_df"
      ],
      "metadata": {
        "colab": {
          "base_uri": "https://localhost:8080/",
          "height": 424
        },
        "id": "7ZPLGkEsV2qD",
        "outputId": "3e1198a7-f2bf-4b4f-e306-5ead9ebe3d4c"
      },
      "execution_count": null,
      "outputs": [
        {
          "output_type": "execute_result",
          "data": {
            "text/plain": [
              "                    name        lat        lon  \\\n",
              "0               Школьник  55.761731  37.656844   \n",
              "1            Coffeemolka  55.701928  37.765984   \n",
              "2            Шоколадница  55.980913  37.410896   \n",
              "3              Кофе Хауз  55.755937  37.628088   \n",
              "4            Шоколадница  55.863789  37.544854   \n",
              "...                  ...        ...        ...   \n",
              "1349            chetverg  55.794601  37.607904   \n",
              "1350  chehov-i-kompaniya  55.742451  37.649601   \n",
              "1351       shkolnik-kofe  55.761769  37.656632   \n",
              "1352      eklernaya-kler  55.770496  37.633162   \n",
              "1353      eklernaya-kler  55.772491  37.675998   \n",
              "\n",
              "                                                address  rating  \\\n",
              "0          улица Земляной Вал, 12/7 ст1, 1 этаж, Москва     2.9   \n",
              "1             улица Зеленодольская, 45 корпус 1, Москва     4.2   \n",
              "2     Международный Аэропорт Шереметьево, терминал B...     3.0   \n",
              "3                        Ильинка, 13/19, стр. 2, Москва     3.7   \n",
              "4      Дмитровское шоссе, 89, в ТЦ \"XL\", 1 этаж, Москва     2.9   \n",
              "...                                                 ...     ...   \n",
              "1349                                                NaN     NaN   \n",
              "1350                                                NaN     NaN   \n",
              "1351                                                NaN     NaN   \n",
              "1352                                                NaN     NaN   \n",
              "1353                                                NaN     NaN   \n",
              "\n",
              "                                                   tags     source  \n",
              "0                                               кофейня       Zoon  \n",
              "1                                               кофейня       Zoon  \n",
              "2                                               кофейня       Zoon  \n",
              "3                                 кондитерская, кофейня       Zoon  \n",
              "4                                               кофейня       Zoon  \n",
              "...                                                 ...        ...  \n",
              "1349        V60, Dog friendly, Specialty cacao, Пекарня  Coffeemap  \n",
              "1350          V60, Декаф, Dog friendly, Laptop friendly  Coffeemap  \n",
              "1351  V60, Продажа зерна, Dog friendly, Specialty cacao  Coffeemap  \n",
              "1352                                       Dog friendly  Coffeemap  \n",
              "1353                                       Dog friendly  Coffeemap  \n",
              "\n",
              "[1354 rows x 7 columns]"
            ],
            "text/html": [
              "\n",
              "  <div id=\"df-65cbbf76-144e-44f1-b380-5d09a03c3a63\" class=\"colab-df-container\">\n",
              "    <div>\n",
              "<style scoped>\n",
              "    .dataframe tbody tr th:only-of-type {\n",
              "        vertical-align: middle;\n",
              "    }\n",
              "\n",
              "    .dataframe tbody tr th {\n",
              "        vertical-align: top;\n",
              "    }\n",
              "\n",
              "    .dataframe thead th {\n",
              "        text-align: right;\n",
              "    }\n",
              "</style>\n",
              "<table border=\"1\" class=\"dataframe\">\n",
              "  <thead>\n",
              "    <tr style=\"text-align: right;\">\n",
              "      <th></th>\n",
              "      <th>name</th>\n",
              "      <th>lat</th>\n",
              "      <th>lon</th>\n",
              "      <th>address</th>\n",
              "      <th>rating</th>\n",
              "      <th>tags</th>\n",
              "      <th>source</th>\n",
              "    </tr>\n",
              "  </thead>\n",
              "  <tbody>\n",
              "    <tr>\n",
              "      <th>0</th>\n",
              "      <td>Школьник</td>\n",
              "      <td>55.761731</td>\n",
              "      <td>37.656844</td>\n",
              "      <td>улица Земляной Вал, 12/7 ст1, 1 этаж, Москва</td>\n",
              "      <td>2.9</td>\n",
              "      <td>кофейня</td>\n",
              "      <td>Zoon</td>\n",
              "    </tr>\n",
              "    <tr>\n",
              "      <th>1</th>\n",
              "      <td>Coffeemolka</td>\n",
              "      <td>55.701928</td>\n",
              "      <td>37.765984</td>\n",
              "      <td>улица Зеленодольская, 45 корпус 1, Москва</td>\n",
              "      <td>4.2</td>\n",
              "      <td>кофейня</td>\n",
              "      <td>Zoon</td>\n",
              "    </tr>\n",
              "    <tr>\n",
              "      <th>2</th>\n",
              "      <td>Шоколадница</td>\n",
              "      <td>55.980913</td>\n",
              "      <td>37.410896</td>\n",
              "      <td>Международный Аэропорт Шереметьево, терминал B...</td>\n",
              "      <td>3.0</td>\n",
              "      <td>кофейня</td>\n",
              "      <td>Zoon</td>\n",
              "    </tr>\n",
              "    <tr>\n",
              "      <th>3</th>\n",
              "      <td>Кофе Хауз</td>\n",
              "      <td>55.755937</td>\n",
              "      <td>37.628088</td>\n",
              "      <td>Ильинка, 13/19, стр. 2, Москва</td>\n",
              "      <td>3.7</td>\n",
              "      <td>кондитерская, кофейня</td>\n",
              "      <td>Zoon</td>\n",
              "    </tr>\n",
              "    <tr>\n",
              "      <th>4</th>\n",
              "      <td>Шоколадница</td>\n",
              "      <td>55.863789</td>\n",
              "      <td>37.544854</td>\n",
              "      <td>Дмитровское шоссе, 89, в ТЦ \"XL\", 1 этаж, Москва</td>\n",
              "      <td>2.9</td>\n",
              "      <td>кофейня</td>\n",
              "      <td>Zoon</td>\n",
              "    </tr>\n",
              "    <tr>\n",
              "      <th>...</th>\n",
              "      <td>...</td>\n",
              "      <td>...</td>\n",
              "      <td>...</td>\n",
              "      <td>...</td>\n",
              "      <td>...</td>\n",
              "      <td>...</td>\n",
              "      <td>...</td>\n",
              "    </tr>\n",
              "    <tr>\n",
              "      <th>1349</th>\n",
              "      <td>chetverg</td>\n",
              "      <td>55.794601</td>\n",
              "      <td>37.607904</td>\n",
              "      <td>NaN</td>\n",
              "      <td>NaN</td>\n",
              "      <td>V60, Dog friendly, Specialty cacao, Пекарня</td>\n",
              "      <td>Coffeemap</td>\n",
              "    </tr>\n",
              "    <tr>\n",
              "      <th>1350</th>\n",
              "      <td>chehov-i-kompaniya</td>\n",
              "      <td>55.742451</td>\n",
              "      <td>37.649601</td>\n",
              "      <td>NaN</td>\n",
              "      <td>NaN</td>\n",
              "      <td>V60, Декаф, Dog friendly, Laptop friendly</td>\n",
              "      <td>Coffeemap</td>\n",
              "    </tr>\n",
              "    <tr>\n",
              "      <th>1351</th>\n",
              "      <td>shkolnik-kofe</td>\n",
              "      <td>55.761769</td>\n",
              "      <td>37.656632</td>\n",
              "      <td>NaN</td>\n",
              "      <td>NaN</td>\n",
              "      <td>V60, Продажа зерна, Dog friendly, Specialty cacao</td>\n",
              "      <td>Coffeemap</td>\n",
              "    </tr>\n",
              "    <tr>\n",
              "      <th>1352</th>\n",
              "      <td>eklernaya-kler</td>\n",
              "      <td>55.770496</td>\n",
              "      <td>37.633162</td>\n",
              "      <td>NaN</td>\n",
              "      <td>NaN</td>\n",
              "      <td>Dog friendly</td>\n",
              "      <td>Coffeemap</td>\n",
              "    </tr>\n",
              "    <tr>\n",
              "      <th>1353</th>\n",
              "      <td>eklernaya-kler</td>\n",
              "      <td>55.772491</td>\n",
              "      <td>37.675998</td>\n",
              "      <td>NaN</td>\n",
              "      <td>NaN</td>\n",
              "      <td>Dog friendly</td>\n",
              "      <td>Coffeemap</td>\n",
              "    </tr>\n",
              "  </tbody>\n",
              "</table>\n",
              "<p>1354 rows × 7 columns</p>\n",
              "</div>\n",
              "    <div class=\"colab-df-buttons\">\n",
              "\n",
              "  <div class=\"colab-df-container\">\n",
              "    <button class=\"colab-df-convert\" onclick=\"convertToInteractive('df-65cbbf76-144e-44f1-b380-5d09a03c3a63')\"\n",
              "            title=\"Convert this dataframe to an interactive table.\"\n",
              "            style=\"display:none;\">\n",
              "\n",
              "  <svg xmlns=\"http://www.w3.org/2000/svg\" height=\"24px\" viewBox=\"0 -960 960 960\">\n",
              "    <path d=\"M120-120v-720h720v720H120Zm60-500h600v-160H180v160Zm220 220h160v-160H400v160Zm0 220h160v-160H400v160ZM180-400h160v-160H180v160Zm440 0h160v-160H620v160ZM180-180h160v-160H180v160Zm440 0h160v-160H620v160Z\"/>\n",
              "  </svg>\n",
              "    </button>\n",
              "\n",
              "  <style>\n",
              "    .colab-df-container {\n",
              "      display:flex;\n",
              "      gap: 12px;\n",
              "    }\n",
              "\n",
              "    .colab-df-convert {\n",
              "      background-color: #E8F0FE;\n",
              "      border: none;\n",
              "      border-radius: 50%;\n",
              "      cursor: pointer;\n",
              "      display: none;\n",
              "      fill: #1967D2;\n",
              "      height: 32px;\n",
              "      padding: 0 0 0 0;\n",
              "      width: 32px;\n",
              "    }\n",
              "\n",
              "    .colab-df-convert:hover {\n",
              "      background-color: #E2EBFA;\n",
              "      box-shadow: 0px 1px 2px rgba(60, 64, 67, 0.3), 0px 1px 3px 1px rgba(60, 64, 67, 0.15);\n",
              "      fill: #174EA6;\n",
              "    }\n",
              "\n",
              "    .colab-df-buttons div {\n",
              "      margin-bottom: 4px;\n",
              "    }\n",
              "\n",
              "    [theme=dark] .colab-df-convert {\n",
              "      background-color: #3B4455;\n",
              "      fill: #D2E3FC;\n",
              "    }\n",
              "\n",
              "    [theme=dark] .colab-df-convert:hover {\n",
              "      background-color: #434B5C;\n",
              "      box-shadow: 0px 1px 3px 1px rgba(0, 0, 0, 0.15);\n",
              "      filter: drop-shadow(0px 1px 2px rgba(0, 0, 0, 0.3));\n",
              "      fill: #FFFFFF;\n",
              "    }\n",
              "  </style>\n",
              "\n",
              "    <script>\n",
              "      const buttonEl =\n",
              "        document.querySelector('#df-65cbbf76-144e-44f1-b380-5d09a03c3a63 button.colab-df-convert');\n",
              "      buttonEl.style.display =\n",
              "        google.colab.kernel.accessAllowed ? 'block' : 'none';\n",
              "\n",
              "      async function convertToInteractive(key) {\n",
              "        const element = document.querySelector('#df-65cbbf76-144e-44f1-b380-5d09a03c3a63');\n",
              "        const dataTable =\n",
              "          await google.colab.kernel.invokeFunction('convertToInteractive',\n",
              "                                                    [key], {});\n",
              "        if (!dataTable) return;\n",
              "\n",
              "        const docLinkHtml = 'Like what you see? Visit the ' +\n",
              "          '<a target=\"_blank\" href=https://colab.research.google.com/notebooks/data_table.ipynb>data table notebook</a>'\n",
              "          + ' to learn more about interactive tables.';\n",
              "        element.innerHTML = '';\n",
              "        dataTable['output_type'] = 'display_data';\n",
              "        await google.colab.output.renderOutput(dataTable, element);\n",
              "        const docLink = document.createElement('div');\n",
              "        docLink.innerHTML = docLinkHtml;\n",
              "        element.appendChild(docLink);\n",
              "      }\n",
              "    </script>\n",
              "  </div>\n",
              "\n",
              "\n",
              "    <div id=\"df-0282f26b-836f-4d27-9fc8-da06c0703c78\">\n",
              "      <button class=\"colab-df-quickchart\" onclick=\"quickchart('df-0282f26b-836f-4d27-9fc8-da06c0703c78')\"\n",
              "                title=\"Suggest charts\"\n",
              "                style=\"display:none;\">\n",
              "\n",
              "<svg xmlns=\"http://www.w3.org/2000/svg\" height=\"24px\"viewBox=\"0 0 24 24\"\n",
              "     width=\"24px\">\n",
              "    <g>\n",
              "        <path d=\"M19 3H5c-1.1 0-2 .9-2 2v14c0 1.1.9 2 2 2h14c1.1 0 2-.9 2-2V5c0-1.1-.9-2-2-2zM9 17H7v-7h2v7zm4 0h-2V7h2v10zm4 0h-2v-4h2v4z\"/>\n",
              "    </g>\n",
              "</svg>\n",
              "      </button>\n",
              "\n",
              "<style>\n",
              "  .colab-df-quickchart {\n",
              "      --bg-color: #E8F0FE;\n",
              "      --fill-color: #1967D2;\n",
              "      --hover-bg-color: #E2EBFA;\n",
              "      --hover-fill-color: #174EA6;\n",
              "      --disabled-fill-color: #AAA;\n",
              "      --disabled-bg-color: #DDD;\n",
              "  }\n",
              "\n",
              "  [theme=dark] .colab-df-quickchart {\n",
              "      --bg-color: #3B4455;\n",
              "      --fill-color: #D2E3FC;\n",
              "      --hover-bg-color: #434B5C;\n",
              "      --hover-fill-color: #FFFFFF;\n",
              "      --disabled-bg-color: #3B4455;\n",
              "      --disabled-fill-color: #666;\n",
              "  }\n",
              "\n",
              "  .colab-df-quickchart {\n",
              "    background-color: var(--bg-color);\n",
              "    border: none;\n",
              "    border-radius: 50%;\n",
              "    cursor: pointer;\n",
              "    display: none;\n",
              "    fill: var(--fill-color);\n",
              "    height: 32px;\n",
              "    padding: 0;\n",
              "    width: 32px;\n",
              "  }\n",
              "\n",
              "  .colab-df-quickchart:hover {\n",
              "    background-color: var(--hover-bg-color);\n",
              "    box-shadow: 0 1px 2px rgba(60, 64, 67, 0.3), 0 1px 3px 1px rgba(60, 64, 67, 0.15);\n",
              "    fill: var(--button-hover-fill-color);\n",
              "  }\n",
              "\n",
              "  .colab-df-quickchart-complete:disabled,\n",
              "  .colab-df-quickchart-complete:disabled:hover {\n",
              "    background-color: var(--disabled-bg-color);\n",
              "    fill: var(--disabled-fill-color);\n",
              "    box-shadow: none;\n",
              "  }\n",
              "\n",
              "  .colab-df-spinner {\n",
              "    border: 2px solid var(--fill-color);\n",
              "    border-color: transparent;\n",
              "    border-bottom-color: var(--fill-color);\n",
              "    animation:\n",
              "      spin 1s steps(1) infinite;\n",
              "  }\n",
              "\n",
              "  @keyframes spin {\n",
              "    0% {\n",
              "      border-color: transparent;\n",
              "      border-bottom-color: var(--fill-color);\n",
              "      border-left-color: var(--fill-color);\n",
              "    }\n",
              "    20% {\n",
              "      border-color: transparent;\n",
              "      border-left-color: var(--fill-color);\n",
              "      border-top-color: var(--fill-color);\n",
              "    }\n",
              "    30% {\n",
              "      border-color: transparent;\n",
              "      border-left-color: var(--fill-color);\n",
              "      border-top-color: var(--fill-color);\n",
              "      border-right-color: var(--fill-color);\n",
              "    }\n",
              "    40% {\n",
              "      border-color: transparent;\n",
              "      border-right-color: var(--fill-color);\n",
              "      border-top-color: var(--fill-color);\n",
              "    }\n",
              "    60% {\n",
              "      border-color: transparent;\n",
              "      border-right-color: var(--fill-color);\n",
              "    }\n",
              "    80% {\n",
              "      border-color: transparent;\n",
              "      border-right-color: var(--fill-color);\n",
              "      border-bottom-color: var(--fill-color);\n",
              "    }\n",
              "    90% {\n",
              "      border-color: transparent;\n",
              "      border-bottom-color: var(--fill-color);\n",
              "    }\n",
              "  }\n",
              "</style>\n",
              "\n",
              "      <script>\n",
              "        async function quickchart(key) {\n",
              "          const quickchartButtonEl =\n",
              "            document.querySelector('#' + key + ' button');\n",
              "          quickchartButtonEl.disabled = true;  // To prevent multiple clicks.\n",
              "          quickchartButtonEl.classList.add('colab-df-spinner');\n",
              "          try {\n",
              "            const charts = await google.colab.kernel.invokeFunction(\n",
              "                'suggestCharts', [key], {});\n",
              "          } catch (error) {\n",
              "            console.error('Error during call to suggestCharts:', error);\n",
              "          }\n",
              "          quickchartButtonEl.classList.remove('colab-df-spinner');\n",
              "          quickchartButtonEl.classList.add('colab-df-quickchart-complete');\n",
              "        }\n",
              "        (() => {\n",
              "          let quickchartButtonEl =\n",
              "            document.querySelector('#df-0282f26b-836f-4d27-9fc8-da06c0703c78 button');\n",
              "          quickchartButtonEl.style.display =\n",
              "            google.colab.kernel.accessAllowed ? 'block' : 'none';\n",
              "        })();\n",
              "      </script>\n",
              "    </div>\n",
              "    </div>\n",
              "  </div>\n"
            ],
            "application/vnd.google.colaboratory.intrinsic+json": {
              "type": "dataframe",
              "variable_name": "points_df",
              "summary": "{\n  \"name\": \"points_df\",\n  \"rows\": 1354,\n  \"fields\": [\n    {\n      \"column\": \"name\",\n      \"properties\": {\n        \"dtype\": \"string\",\n        \"num_unique_values\": 729,\n        \"samples\": [\n          \"cafe-store\",\n          \"\\u0415\\u0442\\u043e \\u043a\\u043e\\u0432\\u043e\\u0440\\u043a\\u0438\\u043d\\u0433\",\n          \"\\u0411\\u043e\\u043d \\u0422\\u0430\\u0440\\u0442\"\n        ],\n        \"semantic_type\": \"\",\n        \"description\": \"\"\n      }\n    },\n    {\n      \"column\": \"lat\",\n      \"properties\": {\n        \"dtype\": \"number\",\n        \"std\": 0.10354038092155869,\n        \"min\": 54.009945,\n        \"max\": 56.352532,\n        \"num_unique_values\": 1352,\n        \"samples\": [\n          55.737086,\n          55.734793,\n          55.815993\n        ],\n        \"semantic_type\": \"\",\n        \"description\": \"\"\n      }\n    },\n    {\n      \"column\": \"lon\",\n      \"properties\": {\n        \"dtype\": \"number\",\n        \"std\": 0.15311463057907893,\n        \"min\": 36.733352,\n        \"max\": 39.055931,\n        \"num_unique_values\": 1354,\n        \"samples\": [\n          37.467291,\n          37.5284260944427,\n          37.603655\n        ],\n        \"semantic_type\": \"\",\n        \"description\": \"\"\n      }\n    },\n    {\n      \"column\": \"address\",\n      \"properties\": {\n        \"dtype\": \"category\",\n        \"num_unique_values\": 648,\n        \"samples\": [\n          \"1-\\u0439 \\u041a\\u043e\\u0442\\u043b\\u044f\\u043a\\u043e\\u0432\\u0441\\u043a\\u0438\\u0439 \\u043f\\u0435\\u0440\\u0435\\u0443\\u043b\\u043e\\u043a, 2\\u0410 \\u043a\\u043e\\u0440\\u043f\\u0443\\u0441 3\\u0411, \\u041c\\u043e\\u0441\\u043a\\u0432\\u0430\",\n          \"\\u041c\\u0430\\u043d\\u0436\\u043e\\u0441\\u043e\\u0432\\u0441\\u043a\\u0430\\u044f \\u0443\\u043b\\u0438\\u0446\\u0430, \\u0441\\u04422, 1 \\u044d\\u0442\\u0430\\u0436, \\u041e\\u0434\\u0438\\u043d\\u0446\\u043e\\u0432\\u043e\",\n          \"\\u041c\\u043e\\u0441\\u043a\\u0432\\u0430, \\u043f\\u043e\\u0441\\u0435\\u043b\\u0435\\u043d\\u0438\\u0435 \\u041a\\u0440\\u0430\\u0441\\u0443\\u043b\\u0438\\u043d\\u0441\\u043a\\u0430\\u044f \\u0443\\u043b\\u0438\\u0446\\u0430, 13, 1 \\u044d\\u0442\\u0430\\u0436, \\u0421\\u043e\\u0441\\u0435\\u043d\\u0441\\u043a\\u043e\\u0435\"\n        ],\n        \"semantic_type\": \"\",\n        \"description\": \"\"\n      }\n    },\n    {\n      \"column\": \"rating\",\n      \"properties\": {\n        \"dtype\": \"number\",\n        \"std\": 0.6188803676000301,\n        \"min\": 2.0,\n        \"max\": 5.0,\n        \"num_unique_values\": 26,\n        \"samples\": [\n          5.0,\n          2.8,\n          2.9\n        ],\n        \"semantic_type\": \"\",\n        \"description\": \"\"\n      }\n    },\n    {\n      \"column\": \"tags\",\n      \"properties\": {\n        \"dtype\": \"category\",\n        \"num_unique_values\": 157,\n        \"samples\": [\n          \"V60, Dog friendly\",\n          \"\\u0431\\u0430\\u0440, \\u043a\\u0430\\u0444\\u0435, \\u043a\\u043e\\u0444\\u0435\\u0439\\u043d\\u044f, \\u0441\\u0443\\u0448\\u0438-\\u0431\\u0430\\u0440, \\u0444\\u0430\\u0441\\u0442\\u0444\\u0443\\u0434\",\n          \"V60, \\u041f\\u0440\\u043e\\u0434\\u0430\\u0436\\u0430 \\u0437\\u0435\\u0440\\u043d\\u0430, Specialty cacao\"\n        ],\n        \"semantic_type\": \"\",\n        \"description\": \"\"\n      }\n    },\n    {\n      \"column\": \"source\",\n      \"properties\": {\n        \"dtype\": \"category\",\n        \"num_unique_values\": 2,\n        \"samples\": [\n          \"Coffeemap\",\n          \"Zoon\"\n        ],\n        \"semantic_type\": \"\",\n        \"description\": \"\"\n      }\n    }\n  ]\n}"
            }
          },
          "metadata": {},
          "execution_count": 14
        }
      ]
    },
    {
      "cell_type": "code",
      "source": [],
      "metadata": {
        "id": "s9M68BGqV2w8"
      },
      "execution_count": null,
      "outputs": []
    },
    {
      "cell_type": "code",
      "source": [
        "points_df = pd.read_csv(\"all_cafes_cleaned.csv\")\n",
        "SPEEDS_KMH = [4.5, 12]  # Скорость пешком и на самокате/легком беге\n",
        "ISO_TIMES_MIN = [5, 10]\n",
        "\n",
        "# --- Шаг 3: Основной цикл и сбор данных ---\n",
        "\n",
        "# Главный словарь для хранения всех результатов\n",
        "all_isochrones_data = {}\n",
        "\n",
        "\n",
        "checkpoint_counter = 0\n",
        "CHECKPOINT_INTERVAL = 10\n",
        "\n",
        "# Внешний цикл по точкам\n",
        "for index, point in points_df.iterrows():\n",
        "    lat = point['lat']\n",
        "    lon = point['lon']\n",
        "\n",
        "    # Создаем ключ для точки\n",
        "    point_key = f\"{lat},{lon}\"\n",
        "    # --- ИЗМЕНЕНИЕ: Инициализируем пустой словарь ---\n",
        "    all_isochrones_data[point_key] = {}\n",
        "\n",
        "    #print(f\"\\nОбработка точки: {point_key}\")\n",
        "\n",
        "    # Средний цикл по скоростям\n",
        "    for speed in SPEEDS_KMH:\n",
        "        speed_key = str(speed)\n",
        "        all_isochrones_data[point_key][speed_key] = {}\n",
        "\n",
        "        # Внутренний цикл по времени\n",
        "        for time_value in ISO_TIMES_MIN:\n",
        "            time_key = str(time_value)\n",
        "\n",
        "            #print(f\"  -> Расчет для скорости {speed} км/ч, время {time_value} мин...\")\n",
        "\n",
        "            #№start_time = timer.time()\n",
        "            iso_gdf = create_isochrone(lat, lon, speed, time_value)\n",
        "            #end_time = timer.time()\n",
        "\n",
        "            #print(f\"     ... готово за {end_time - start_time:.2f} сек.\")\n",
        "\n",
        "            if iso_gdf is not None and not iso_gdf.empty:\n",
        "                polygon_geometry = iso_gdf.geometry.iloc[0]\n",
        "                polygon_geojson_dict = polygon_geometry.__geo_interface__\n",
        "                all_isochrones_data[point_key][speed_key][time_key] = polygon_geojson_dict\n",
        "            else:\n",
        "                all_isochrones_data[point_key][speed_key][time_key] = None\n",
        "\n",
        "    if (index + 1) % CHECKPOINT_INTERVAL == 0 and index > 0:\n",
        "      checkpoint_counter += 1\n",
        "      checkpoint_filename = f\"isochrone_results_checkpoint_{checkpoint_counter}.json\"\n",
        "\n",
        "      #print(f\"\\n--- СОЗДАНИЕ ЧЕКПОИНТА #{checkpoint_counter} ---\")\n",
        "      #print(f\"Обработано {index + 1} точек. Сохранение промежуточных результатов в {checkpoint_filename}...\")\n",
        "\n",
        "      try:\n",
        "          with open(checkpoint_filename, 'w', encoding='utf-8') as f:\n",
        "              json.dump(all_isochrones_data, f, ensure_ascii=False, indent=4)\n",
        "          #print(f\"--- ЧЕКПОИНТ УСПЕШНО СОХРАНЕН ---\")\n",
        "      except Exception as e:\n",
        "          print(f\"--- ОШИБКА СОХРАНЕНИЯ ЧЕКПОИНТА: {e} ---\")"
      ],
      "metadata": {
        "id": "VpirS7-FRe_L"
      },
      "execution_count": null,
      "outputs": []
    },
    {
      "cell_type": "code",
      "source": [
        "import json"
      ],
      "metadata": {
        "id": "aIGdByCEU3_c"
      },
      "execution_count": null,
      "outputs": []
    },
    {
      "cell_type": "code",
      "source": [
        "# --- Шаг 4: Сохранение итогового результата в JSON ---\n",
        "\n",
        "output_filename = \"isochrone_results.json\"\n",
        "print(f\"\\nСохранение всех результатов в файл: {output_filename}\")\n",
        "\n",
        "with open(output_filename, 'w', encoding='utf-8') as f:\n",
        "    json.dump(all_isochrones_data, f, ensure_ascii=False, indent=4)\n",
        "\n",
        "print(\"Готово!\")"
      ],
      "metadata": {
        "colab": {
          "base_uri": "https://localhost:8080/"
        },
        "id": "GWaL8xRSRfB7",
        "outputId": "14005cdb-7d85-42e4-87ec-faba57945583"
      },
      "execution_count": null,
      "outputs": [
        {
          "output_type": "stream",
          "name": "stdout",
          "text": [
            "\n",
            "Сохранение всех результатов в файл: isochrone_results.json\n",
            "Готово!\n"
          ]
        }
      ]
    },
    {
      "cell_type": "code",
      "source": [],
      "metadata": {
        "id": "NoWqhu_wRfEs"
      },
      "execution_count": null,
      "outputs": []
    },
    {
      "cell_type": "code",
      "source": [],
      "metadata": {
        "id": "d0X5UIPFRfHI"
      },
      "execution_count": null,
      "outputs": []
    },
    {
      "cell_type": "code",
      "source": [],
      "metadata": {
        "id": "zmCEnBbQRfJ1"
      },
      "execution_count": null,
      "outputs": []
    },
    {
      "cell_type": "code",
      "source": [],
      "metadata": {
        "id": "TBVhWbQjRfLj"
      },
      "execution_count": null,
      "outputs": []
    },
    {
      "cell_type": "code",
      "source": [
        "# DO NOT TOUCH DO NOT TOUCH DO NOT TOUCH"
      ],
      "metadata": {
        "id": "IZBQyI435uDc"
      },
      "execution_count": null,
      "outputs": []
    },
    {
      "cell_type": "code",
      "source": [
        "# DO NOT TOUCH DO NOT TOUCH DO NOT TOUCH"
      ],
      "metadata": {
        "id": "RNYlvGCl5uF6"
      },
      "execution_count": null,
      "outputs": []
    },
    {
      "cell_type": "code",
      "source": [
        "# DO NOT TOUCH DO NOT TOUCH DO NOT TOUCH"
      ],
      "metadata": {
        "id": "FR0RUOru5uIO"
      },
      "execution_count": null,
      "outputs": []
    },
    {
      "cell_type": "code",
      "source": [
        "# DO NOT TOUCH DO NOT TOUCH DO NOT TOUCH"
      ],
      "metadata": {
        "id": "MRvbZ3QXI5t4"
      },
      "execution_count": null,
      "outputs": []
    },
    {
      "cell_type": "code",
      "source": [
        "# DO NOT TOUCH DO NOT TOUCH DO NOT TOUCH"
      ],
      "metadata": {
        "id": "kLPPH8klI5xl"
      },
      "execution_count": null,
      "outputs": []
    },
    {
      "cell_type": "code",
      "source": [
        "# DO NOT TOUCH DO NOT TOUCH DO NOT TOUCH"
      ],
      "metadata": {
        "id": "zoMvDq1CI503"
      },
      "execution_count": null,
      "outputs": []
    },
    {
      "cell_type": "code",
      "source": [
        "pip install --upgrade osmnx"
      ],
      "metadata": {
        "colab": {
          "base_uri": "https://localhost:8080/"
        },
        "id": "09Lm2Tld5uL0",
        "outputId": "d534e66d-0ff8-4bb6-90bb-f016b297e5d7"
      },
      "execution_count": null,
      "outputs": [
        {
          "output_type": "stream",
          "name": "stdout",
          "text": [
            "Requirement already satisfied: osmnx in /usr/local/lib/python3.11/dist-packages (2.0.5)\n",
            "Requirement already satisfied: geopandas>=1.0.1 in /usr/local/lib/python3.11/dist-packages (from osmnx) (1.0.1)\n",
            "Requirement already satisfied: networkx>=2.5 in /usr/local/lib/python3.11/dist-packages (from osmnx) (3.5)\n",
            "Requirement already satisfied: numpy>=1.22 in /usr/local/lib/python3.11/dist-packages (from osmnx) (2.0.2)\n",
            "Requirement already satisfied: pandas>=1.4 in /usr/local/lib/python3.11/dist-packages (from osmnx) (2.2.2)\n",
            "Requirement already satisfied: requests>=2.27 in /usr/local/lib/python3.11/dist-packages (from osmnx) (2.32.3)\n",
            "Requirement already satisfied: shapely>=2.0 in /usr/local/lib/python3.11/dist-packages (from osmnx) (2.1.1)\n",
            "Requirement already satisfied: pyogrio>=0.7.2 in /usr/local/lib/python3.11/dist-packages (from geopandas>=1.0.1->osmnx) (0.11.0)\n",
            "Requirement already satisfied: packaging in /usr/local/lib/python3.11/dist-packages (from geopandas>=1.0.1->osmnx) (24.2)\n",
            "Requirement already satisfied: pyproj>=3.3.0 in /usr/local/lib/python3.11/dist-packages (from geopandas>=1.0.1->osmnx) (3.7.1)\n",
            "Requirement already satisfied: python-dateutil>=2.8.2 in /usr/local/lib/python3.11/dist-packages (from pandas>=1.4->osmnx) (2.9.0.post0)\n",
            "Requirement already satisfied: pytz>=2020.1 in /usr/local/lib/python3.11/dist-packages (from pandas>=1.4->osmnx) (2025.2)\n",
            "Requirement already satisfied: tzdata>=2022.7 in /usr/local/lib/python3.11/dist-packages (from pandas>=1.4->osmnx) (2025.2)\n",
            "Requirement already satisfied: charset-normalizer<4,>=2 in /usr/local/lib/python3.11/dist-packages (from requests>=2.27->osmnx) (3.4.2)\n",
            "Requirement already satisfied: idna<4,>=2.5 in /usr/local/lib/python3.11/dist-packages (from requests>=2.27->osmnx) (3.10)\n",
            "Requirement already satisfied: urllib3<3,>=1.21.1 in /usr/local/lib/python3.11/dist-packages (from requests>=2.27->osmnx) (2.4.0)\n",
            "Requirement already satisfied: certifi>=2017.4.17 in /usr/local/lib/python3.11/dist-packages (from requests>=2.27->osmnx) (2025.6.15)\n",
            "Requirement already satisfied: six>=1.5 in /usr/local/lib/python3.11/dist-packages (from python-dateutil>=2.8.2->pandas>=1.4->osmnx) (1.17.0)\n"
          ]
        }
      ]
    },
    {
      "cell_type": "code",
      "source": [
        "import osmnx as ox\n",
        "print(osmnx.__version__)"
      ],
      "metadata": {
        "colab": {
          "base_uri": "https://localhost:8080/"
        },
        "id": "W-zeuTAE5ytl",
        "outputId": "798cb6b7-450c-4ba2-b540-4084e0e42986"
      },
      "execution_count": null,
      "outputs": [
        {
          "output_type": "stream",
          "name": "stdout",
          "text": [
            "2.0.5\n"
          ]
        }
      ]
    },
    {
      "cell_type": "code",
      "source": [
        "def create_isochrone_osmnx(latitude, longitude, walking_speed_kmh, iso_time_min):\n",
        "    \"\"\"\n",
        "    Создает изохрону с помощью встроенной функции OSMnx.\n",
        "\n",
        "    :param graph: Граф дорожной сети от OSMnx.\n",
        "    :param latitude: Широта начальной точки.\n",
        "    :param longitude: Долгота начальной точки.\n",
        "    :param walking_speed_kmh: Скорость пешехода в км/ч.\n",
        "    :param iso_time_min: Время доступности в минутах.\n",
        "    :return: GeoDataFrame с полигоном изохроны.\n",
        "    \"\"\"\n",
        "    print(f\"Начальная точка: {latitude}, {longitude}\")\n",
        "    start_point = (latitude, longitude)\n",
        "\n",
        "    # ВАЖНО: OSMnx сам делает все расчеты, включая построение полигона.\n",
        "    # travel_times - это список времен в минутах.\n",
        "    # speed - скорость в км/ч.\n",
        "    isochrone_gdf = ox.isochrones_from_point(\n",
        "        G,\n",
        "        start_point,\n",
        "        travel_times=[iso_time_min],\n",
        "        speed=walking_speed_kmh\n",
        "    )\n",
        "\n",
        "    # Сохраняем изохрону в GeoJSON\n",
        "    filepath = f\"moscow_{iso_time_min}min_isochrone_{latitude}_{longitude}_osmnx.geojson\"\n",
        "    isochrone_gdf.to_file(filepath, driver=\"GeoJSON\")\n",
        "    print(f\"Изохрона сохранена в: {filepath}\")\n",
        "\n",
        "    return isochrone_gdf\n"
      ],
      "metadata": {
        "id": "GDSH4KxgoQxH"
      },
      "execution_count": null,
      "outputs": []
    },
    {
      "cell_type": "code",
      "source": [
        "create_isochrone_osmnx(55.747058, 37.641538, 4.5, 10)"
      ],
      "metadata": {
        "colab": {
          "base_uri": "https://localhost:8080/",
          "height": 297
        },
        "id": "5G2GcWY5vOBb",
        "outputId": "de4de245-b5a8-4772-d381-b5596545e1f7"
      },
      "execution_count": null,
      "outputs": [
        {
          "output_type": "stream",
          "name": "stdout",
          "text": [
            "Начальная точка: 55.747058, 37.641538\n"
          ]
        },
        {
          "output_type": "error",
          "ename": "AttributeError",
          "evalue": "module 'osmnx' has no attribute 'isochrones_from_point'",
          "traceback": [
            "\u001b[0;31m---------------------------------------------------------------------------\u001b[0m",
            "\u001b[0;31mAttributeError\u001b[0m                            Traceback (most recent call last)",
            "\u001b[0;32m/tmp/ipython-input-53-661777170.py\u001b[0m in \u001b[0;36m<cell line: 0>\u001b[0;34m()\u001b[0m\n\u001b[0;32m----> 1\u001b[0;31m \u001b[0mcreate_isochrone_osmnx\u001b[0m\u001b[0;34m(\u001b[0m\u001b[0;36m55.747058\u001b[0m\u001b[0;34m,\u001b[0m \u001b[0;36m37.641538\u001b[0m\u001b[0;34m,\u001b[0m \u001b[0;36m4.5\u001b[0m\u001b[0;34m,\u001b[0m \u001b[0;36m10\u001b[0m\u001b[0;34m)\u001b[0m\u001b[0;34m\u001b[0m\u001b[0;34m\u001b[0m\u001b[0m\n\u001b[0m",
            "\u001b[0;32m/tmp/ipython-input-52-2731684795.py\u001b[0m in \u001b[0;36mcreate_isochrone_osmnx\u001b[0;34m(latitude, longitude, walking_speed_kmh, iso_time_min)\u001b[0m\n\u001b[1;32m     16\u001b[0m     \u001b[0;31m# travel_times - это список времен в минутах.\u001b[0m\u001b[0;34m\u001b[0m\u001b[0;34m\u001b[0m\u001b[0m\n\u001b[1;32m     17\u001b[0m     \u001b[0;31m# speed - скорость в км/ч.\u001b[0m\u001b[0;34m\u001b[0m\u001b[0;34m\u001b[0m\u001b[0m\n\u001b[0;32m---> 18\u001b[0;31m     isochrone_gdf = ox.isochrones_from_point(\n\u001b[0m\u001b[1;32m     19\u001b[0m         \u001b[0mG\u001b[0m\u001b[0;34m,\u001b[0m\u001b[0;34m\u001b[0m\u001b[0;34m\u001b[0m\u001b[0m\n\u001b[1;32m     20\u001b[0m         \u001b[0mstart_point\u001b[0m\u001b[0;34m,\u001b[0m\u001b[0;34m\u001b[0m\u001b[0;34m\u001b[0m\u001b[0m\n",
            "\u001b[0;31mAttributeError\u001b[0m: module 'osmnx' has no attribute 'isochrones_from_point'"
          ]
        }
      ]
    },
    {
      "cell_type": "code",
      "source": [
        "def create_isochrone_2(latitude, longitude, travel_time, speed, network_type='walk'):\n",
        "    \"\"\"\n",
        "    Создает изохрону для заданной точки\n",
        "\n",
        "    Параметры:\n",
        "    G - граф дорожной сети\n",
        "    center_point - кортеж (широта, долгота) стартовой точки\n",
        "    travel_time - время изохроны в минутах\n",
        "    speed - скорость движения в км/ч\n",
        "    network_type - тип сети ('walk', 'bike', 'drive')\n",
        "\n",
        "    Возвращает:\n",
        "    GeoDataFrame с полигоном изохроны\n",
        "    \"\"\"\n",
        "    # Находим ближайший узел\n",
        "    center_node = ox.distance.nearest_nodes(G, latitude, longitude)\n",
        "\n",
        "    # Рассчитываем время движения для каждого ребра\n",
        "    for u, v, k, data in G.edges(keys=True, data=True):\n",
        "        length = data.get('length', 0)  # метры\n",
        "        # Время в минутах: расстояние / (скорость * 1000/60)\n",
        "        data['travel_time'] = length / (speed * 1000 / 60)\n",
        "\n",
        "    # Рассчитываем время пути до всех узлов\n",
        "    travel_times = nx.single_source_dijkstra_path_length(\n",
        "        G,\n",
        "        center_node,\n",
        "        weight='travel_time'\n",
        "    )\n",
        "\n",
        "    # Фильтруем достижимые узлы\n",
        "    reached_nodes = [\n",
        "        node for node, time in travel_times.items()\n",
        "        if time <= travel_time\n",
        "    ]\n",
        "\n",
        "    # Создаем точки из достижимых узлов\n",
        "    points = [\n",
        "        Point(G.nodes[node]['x'], G.nodes[node]['y'])\n",
        "        for node in reached_nodes\n",
        "    ]\n",
        "\n",
        "    # Создаем полигон (выпуклая оболочка)\n",
        "    polygon = MultiPoint(points).convex_hull\n",
        "\n",
        "    # Создаем GeoDataFrame\n",
        "    gdf = gpd.GeoDataFrame(\n",
        "        geometry=[polygon],\n",
        "        crs=\"EPSG:4326\",\n",
        "        data={'time_min': [travel_time], 'speed_kmh': [speed]}\n",
        "    )\n",
        "\n",
        "    return gdf"
      ],
      "metadata": {
        "id": "E94Ae45AvOmt"
      },
      "execution_count": null,
      "outputs": []
    },
    {
      "cell_type": "code",
      "source": [],
      "metadata": {
        "id": "hDfb97SK7WM_"
      },
      "execution_count": null,
      "outputs": []
    }
  ]
}