{
 "cells": [
  {
   "cell_type": "code",
   "execution_count": 2,
   "metadata": {
    "execution": {
     "iopub.execute_input": "2025-07-04T19:33:35.641443Z",
     "iopub.status.busy": "2025-07-04T19:33:35.640186Z",
     "iopub.status.idle": "2025-07-04T19:33:38.087779Z",
     "shell.execute_reply": "2025-07-04T19:33:38.086873Z",
     "shell.execute_reply.started": "2025-07-04T19:33:35.641402Z"
    },
    "tags": []
   },
   "outputs": [
    {
     "name": "stdout",
     "output_type": "stream",
     "text": [
      "Defaulting to user installation because normal site-packages is not writeable\n",
      "Requirement already satisfied: fastparquet in /home/jupyter/.local/lib/python3.10/site-packages (2024.11.0)\n",
      "Requirement already satisfied: pandas>=1.5.0 in /home/jupyter/.local/lib/python3.10/site-packages (from fastparquet) (2.3.0)\n",
      "Requirement already satisfied: numpy in /home/jupyter/.local/lib/python3.10/site-packages (from fastparquet) (2.2.6)\n",
      "Requirement already satisfied: cramjam>=2.3 in /home/jupyter/.local/lib/python3.10/site-packages (from fastparquet) (2.10.0)\n",
      "Requirement already satisfied: fsspec in /usr/local/lib/python3.10/dist-packages (from fastparquet) (2023.6.0)\n",
      "Requirement already satisfied: packaging in /usr/local/lib/python3.10/dist-packages (from fastparquet) (23.1)\n",
      "Requirement already satisfied: python-dateutil>=2.8.2 in /usr/local/lib/python3.10/dist-packages (from pandas>=1.5.0->fastparquet) (2.8.2)\n",
      "Requirement already satisfied: pytz>=2020.1 in /usr/local/lib/python3.10/dist-packages (from pandas>=1.5.0->fastparquet) (2022.7.1)\n",
      "Requirement already satisfied: tzdata>=2022.7 in /usr/local/lib/python3.10/dist-packages (from pandas>=1.5.0->fastparquet) (2023.3)\n",
      "Requirement already satisfied: six>=1.5 in /usr/lib/python3/dist-packages (from python-dateutil>=2.8.2->pandas>=1.5.0->fastparquet) (1.16.0)\n",
      "\n",
      "\u001b[1m[\u001b[0m\u001b[34;49mnotice\u001b[0m\u001b[1;39;49m]\u001b[0m\u001b[39;49m A new release of pip is available: \u001b[0m\u001b[31;49m23.0.1\u001b[0m\u001b[39;49m -> \u001b[0m\u001b[32;49m25.1.1\u001b[0m\n",
      "\u001b[1m[\u001b[0m\u001b[34;49mnotice\u001b[0m\u001b[1;39;49m]\u001b[0m\u001b[39;49m To update, run: \u001b[0m\u001b[32;49mpython3 -m pip install --upgrade pip\u001b[0m\n"
     ]
    }
   ],
   "source": [
    "pip install fastparquet"
   ]
  },
  {
   "cell_type": "code",
   "execution_count": 47,
   "metadata": {
    "execution": {
     "iopub.execute_input": "2025-07-04T22:12:39.786079Z",
     "iopub.status.busy": "2025-07-04T22:12:39.784827Z",
     "iopub.status.idle": "2025-07-04T22:12:39.796652Z",
     "shell.execute_reply": "2025-07-04T22:12:39.795980Z",
     "shell.execute_reply.started": "2025-07-04T22:12:39.786036Z"
    },
    "tags": []
   },
   "outputs": [],
   "source": [
    "import pandas as pd"
   ]
  },
  {
   "cell_type": "code",
   "execution_count": 30,
   "metadata": {
    "execution": {
     "iopub.execute_input": "2025-07-04T20:27:37.511999Z",
     "iopub.status.busy": "2025-07-04T20:27:37.510766Z",
     "iopub.status.idle": "2025-07-04T20:27:45.090711Z",
     "shell.execute_reply": "2025-07-04T20:27:45.089790Z",
     "shell.execute_reply.started": "2025-07-04T20:27:37.511962Z"
    },
    "tags": []
   },
   "outputs": [],
   "source": [
    "# df = pd.read_parquet('/home/jupyter/datasphere/project/from-s3-folder/part-0.parquet', engine=\"fastparquet\")\n",
    "df = pd.read_parquet('/home/jupyter/datasphere/project/from-s3-folder/fixed_data_3.parquet', engine=\"fastparquet\")"
   ]
  },
  {
   "cell_type": "code",
   "execution_count": 48,
   "metadata": {
    "execution": {
     "iopub.execute_input": "2025-07-04T22:12:46.448927Z",
     "iopub.status.busy": "2025-07-04T22:12:46.447688Z",
     "iopub.status.idle": "2025-07-04T22:12:46.464210Z",
     "shell.execute_reply": "2025-07-04T22:12:46.463352Z",
     "shell.execute_reply.started": "2025-07-04T22:12:46.448882Z"
    },
    "tags": []
   },
   "outputs": [
    {
     "data": {
      "text/plain": [
       "inn                          object\n",
       "ogrn                         object\n",
       "region                       object\n",
       "region_taxcode               object\n",
       "creation_date         datetime64[s]\n",
       "dissolution_date      datetime64[s]\n",
       "age                         float64\n",
       "eligible                    float64\n",
       "exemption_criteria           object\n",
       "financial                   float64\n",
       "filed                       float64\n",
       "imputed                     float64\n",
       "simplified                  float64\n",
       "articulated                 float64\n",
       "totals_adjustment           float64\n",
       "outlier                     float64\n",
       "okved                        object\n",
       "okved_section                object\n",
       "okpo                         object\n",
       "okopf                        object\n",
       "okogu                        object\n",
       "okfc                         object\n",
       "oktmo                        object\n",
       "lon                          object\n",
       "lat                          object\n",
       "geocoding_quality            object\n",
       "line_1100                   float64\n",
       "line_1110                   float64\n",
       "line_1120                   float64\n",
       "line_1130                   float64\n",
       "line_1140                   float64\n",
       "line_1150                   float64\n",
       "line_1160                   float64\n",
       "line_1170                   float64\n",
       "line_1180                   float64\n",
       "line_1190                   float64\n",
       "line_1200                   float64\n",
       "line_1210                   float64\n",
       "line_1220                   float64\n",
       "line_1230                   float64\n",
       "line_1240                   float64\n",
       "line_1250                   float64\n",
       "line_1260                   float64\n",
       "line_1300                   float64\n",
       "line_1310                   float64\n",
       "line_1320                   float64\n",
       "line_1340                   float64\n",
       "line_1350                   float64\n",
       "line_1360                   float64\n",
       "line_1370                   float64\n",
       "line_1400                   float64\n",
       "line_1410                   float64\n",
       "line_1420                   float64\n",
       "line_1430                   float64\n",
       "line_1450                   float64\n",
       "line_1500                   float64\n",
       "line_1510                   float64\n",
       "line_1520                   float64\n",
       "line_1530                   float64\n",
       "line_1540                   float64\n",
       "line_1550                   float64\n",
       "line_1600                   float64\n",
       "line_1700                   float64\n",
       "line_2100                   float64\n",
       "line_2110                   float64\n",
       "line_2120                   float64\n",
       "line_2200                   float64\n",
       "line_2210                   float64\n",
       "line_2220                   float64\n",
       "line_2300                   float64\n",
       "line_2310                   float64\n",
       "line_2320                   float64\n",
       "line_2330                   float64\n",
       "line_2340                   float64\n",
       "line_2350                   float64\n",
       "line_2400                   float64\n",
       "line_2410                   float64\n",
       "line_2411                   float64\n",
       "line_2412                   float64\n",
       "line_2421                   float64\n",
       "line_2430                   float64\n",
       "line_2450                   float64\n",
       "line_2460                   float64\n",
       "line_2500                   float64\n",
       "line_2510                   float64\n",
       "line_2520                   float64\n",
       "line_2530                   float64\n",
       "line_2900                   float64\n",
       "line_2910                   float64\n",
       "line_3100                   float64\n",
       "line_3200                   float64\n",
       "line_3210                   float64\n",
       "line_3211                   float64\n",
       "line_3212                   float64\n",
       "line_3213                   float64\n",
       "line_3214                   float64\n",
       "line_3215                   float64\n",
       "line_3216                   float64\n",
       "line_321x                   float64\n",
       "line_3220                   float64\n",
       "line_3221                   float64\n",
       "line_3222                   float64\n",
       "line_3223                   float64\n",
       "line_3224                   float64\n",
       "line_3225                   float64\n",
       "line_3226                   float64\n",
       "line_3227                   float64\n",
       "line_322x                   float64\n",
       "line_3230                   float64\n",
       "line_3240                   float64\n",
       "line_3300                   float64\n",
       "line_3310                   float64\n",
       "line_3311                   float64\n",
       "line_3312                   float64\n",
       "line_3313                   float64\n",
       "line_3314                   float64\n",
       "line_3315                   float64\n",
       "line_3316                   float64\n",
       "line_331x                   float64\n",
       "line_3320                   float64\n",
       "line_3321                   float64\n",
       "line_3322                   float64\n",
       "line_3323                   float64\n",
       "line_3324                   float64\n",
       "line_3325                   float64\n",
       "line_3326                   float64\n",
       "line_3327                   float64\n",
       "line_332x                   float64\n",
       "line_3330                   float64\n",
       "line_3340                   float64\n",
       "line_3400                   float64\n",
       "line_3401                   float64\n",
       "line_3402                   float64\n",
       "line_3410                   float64\n",
       "line_3411                   float64\n",
       "line_3412                   float64\n",
       "line_3420                   float64\n",
       "line_3421                   float64\n",
       "line_3422                   float64\n",
       "line_3500                   float64\n",
       "line_3501                   float64\n",
       "line_3502                   float64\n",
       "line_3600                   float64\n",
       "line_4100                   float64\n",
       "line_4110                   float64\n",
       "line_4111                   float64\n",
       "line_4112                   float64\n",
       "line_4113                   float64\n",
       "line_4119                   float64\n",
       "line_411x                   float64\n",
       "line_4120                   float64\n",
       "line_4121                   float64\n",
       "line_4122                   float64\n",
       "line_4123                   float64\n",
       "line_4124                   float64\n",
       "line_4129                   float64\n",
       "line_412x                   float64\n",
       "line_4200                   float64\n",
       "line_4210                   float64\n",
       "line_4211                   float64\n",
       "line_4212                   float64\n",
       "line_4213                   float64\n",
       "line_4214                   float64\n",
       "line_4219                   float64\n",
       "line_421x                   float64\n",
       "line_4220                   float64\n",
       "line_4221                   float64\n",
       "line_4222                   float64\n",
       "line_4223                   float64\n",
       "line_4224                   float64\n",
       "line_4229                   float64\n",
       "line_422x                   float64\n",
       "line_4300                   float64\n",
       "line_4310                   float64\n",
       "line_4311                   float64\n",
       "line_4312                   float64\n",
       "line_4313                   float64\n",
       "line_4314                   float64\n",
       "line_4319                   float64\n",
       "line_431x                   float64\n",
       "line_4320                   float64\n",
       "line_4321                   float64\n",
       "line_4322                   float64\n",
       "line_4323                   float64\n",
       "line_4329                   float64\n",
       "line_432x                   float64\n",
       "line_4400                   float64\n",
       "line_4450                   float64\n",
       "line_4490                   float64\n",
       "line_4500                   float64\n",
       "line_6100                   float64\n",
       "line_6200                   float64\n",
       "line_6210                   float64\n",
       "line_6215                   float64\n",
       "line_6220                   float64\n",
       "line_6230                   float64\n",
       "line_6240                   float64\n",
       "line_6250                   float64\n",
       "line_6300                   float64\n",
       "line_6310                   float64\n",
       "line_6311                   float64\n",
       "line_6312                   float64\n",
       "line_6313                   float64\n",
       "line_6320                   float64\n",
       "line_6321                   float64\n",
       "line_6322                   float64\n",
       "line_6323                   float64\n",
       "line_6324                   float64\n",
       "line_6325                   float64\n",
       "line_6326                   float64\n",
       "line_6330                   float64\n",
       "line_6350                   float64\n",
       "line_6400                   float64\n",
       "dtype: object"
      ]
     },
     "execution_count": 48,
     "metadata": {},
     "output_type": "execute_result"
    }
   ],
   "source": [
    "df.dtypes"
   ]
  },
  {
   "cell_type": "code",
   "execution_count": null,
   "metadata": {
    "execution": {
     "iopub.execute_input": "2025-07-04T20:39:44.200177Z",
     "iopub.status.busy": "2025-07-04T20:39:44.198960Z"
    },
    "tags": []
   },
   "outputs": [],
   "source": [
    "pd.set_option('display.max_rows', 213)\n",
    "PATH = '/home/jupyter/datasphere/project/from-s3-folder/'\n",
    "loc_path = PATH + 'percent_of_nan_in_rows.csv'\n",
    "df.isna().mean().to_csv(loc_path)"
   ]
  },
  {
   "cell_type": "code",
   "execution_count": 52,
   "metadata": {
    "execution": {
     "iopub.execute_input": "2025-07-04T22:15:58.122538Z",
     "iopub.status.busy": "2025-07-04T22:15:58.121795Z",
     "iopub.status.idle": "2025-07-04T22:15:58.240922Z",
     "shell.execute_reply": "2025-07-04T22:15:58.240168Z",
     "shell.execute_reply.started": "2025-07-04T22:15:58.122507Z"
    },
    "tags": []
   },
   "outputs": [
    {
     "data": {
      "text/plain": [
       "np.int64(66243)"
      ]
     },
     "execution_count": 52,
     "metadata": {},
     "output_type": "execute_result"
    }
   ],
   "source": [
    "df['geocoding_quality'].isna().sum()"
   ]
  },
  {
   "cell_type": "code",
   "execution_count": 55,
   "metadata": {
    "execution": {
     "iopub.execute_input": "2025-07-04T22:19:04.702169Z",
     "iopub.status.busy": "2025-07-04T22:19:04.700863Z",
     "iopub.status.idle": "2025-07-04T22:19:04.930859Z",
     "shell.execute_reply": "2025-07-04T22:19:04.930110Z",
     "shell.execute_reply.started": "2025-07-04T22:19:04.702130Z"
    },
    "tags": []
   },
   "outputs": [
    {
     "data": {
      "text/plain": [
       "region_taxcode\n",
       "77    641758\n",
       "78    222539\n",
       "50    184614\n",
       "66    114211\n",
       "23     99954\n",
       "16     96073\n",
       "54     87854\n",
       "63     76342\n",
       "74     70874\n",
       "52     66997\n",
       "02     62534\n",
       "61     60771\n",
       "24     55518\n",
       "25     49536\n",
       "59     49046\n",
       "38     43462\n",
       "22     37899\n",
       "36     37256\n",
       "72     35554\n",
       "64     34459\n",
       "55     34359\n",
       "39     32922\n",
       "42     32145\n",
       "27     30189\n",
       "76     30033\n",
       "18     29686\n",
       "47     29576\n",
       "35     29136\n",
       "91     28385\n",
       "26     28032\n",
       "34     28029\n",
       "86     27062\n",
       "69     24144\n",
       "43     24085\n",
       "31     23997\n",
       "67     23486\n",
       "56     23436\n",
       "71     23076\n",
       "70     22398\n",
       "37     22256\n",
       "33     21881\n",
       "73     21240\n",
       "05     20983\n",
       "62     20849\n",
       "40     19253\n",
       "14     18465\n",
       "58     18232\n",
       "21     17714\n",
       "93     17244\n",
       "03     17070\n",
       "29     16393\n",
       "48     16086\n",
       "10     15744\n",
       "46     14151\n",
       "32     12418\n",
       "51     12209\n",
       "28     11671\n",
       "65     11557\n",
       "11     11553\n",
       "68     11116\n",
       "44     11048\n",
       "92     10769\n",
       "30     10713\n",
       "60     10123\n",
       "57     10101\n",
       "75      9834\n",
       "45      9537\n",
       "12      9365\n",
       "53      9297\n",
       "13      8986\n",
       "94      8778\n",
       "07      8653\n",
       "20      8306\n",
       "41      7620\n",
       "15      7590\n",
       "89      7061\n",
       "19      6616\n",
       "01      4961\n",
       "06      4829\n",
       "09      4799\n",
       "04      4014\n",
       "90      3349\n",
       "08      3348\n",
       "49      3125\n",
       "17      2577\n",
       "95      2116\n",
       "79      1815\n",
       "87       800\n",
       "80       371\n",
       "82       313\n",
       "99       252\n",
       "85       154\n",
       "81       115\n",
       "84       103\n",
       "83        90\n",
       "88        62\n",
       "Name: count, dtype: int64"
      ]
     },
     "execution_count": 55,
     "metadata": {},
     "output_type": "execute_result"
    }
   ],
   "source": [
    "df['region_taxcode'].value_counts()"
   ]
  },
  {
   "cell_type": "code",
   "execution_count": 58,
   "metadata": {
    "execution": {
     "iopub.execute_input": "2025-07-04T22:22:12.646288Z",
     "iopub.status.busy": "2025-07-04T22:22:12.645123Z",
     "iopub.status.idle": "2025-07-04T22:22:12.762337Z",
     "shell.execute_reply": "2025-07-04T22:22:12.761569Z",
     "shell.execute_reply.started": "2025-07-04T22:22:12.646246Z"
    },
    "tags": []
   },
   "outputs": [
    {
     "data": {
      "text/plain": [
       "np.int64(66243)"
      ]
     },
     "execution_count": 58,
     "metadata": {},
     "output_type": "execute_result"
    }
   ],
   "source": [
    "df['lat'].isna().sum()"
   ]
  },
  {
   "cell_type": "code",
   "execution_count": null,
   "metadata": {},
   "outputs": [],
   "source": []
  },
  {
   "cell_type": "code",
   "execution_count": 53,
   "metadata": {
    "execution": {
     "iopub.execute_input": "2025-07-04T22:17:42.897508Z",
     "iopub.status.busy": "2025-07-04T22:17:42.896742Z",
     "iopub.status.idle": "2025-07-04T22:17:43.017505Z",
     "shell.execute_reply": "2025-07-04T22:17:43.016732Z",
     "shell.execute_reply.started": "2025-07-04T22:17:42.897467Z"
    },
    "tags": []
   },
   "outputs": [
    {
     "data": {
      "text/plain": [
       "np.int64(1)"
      ]
     },
     "execution_count": 53,
     "metadata": {},
     "output_type": "execute_result"
    }
   ],
   "source": [
    "df['region_taxcode'].isna().sum()"
   ]
  },
  {
   "cell_type": "code",
   "execution_count": 9,
   "metadata": {
    "execution": {
     "iopub.execute_input": "2025-07-04T19:36:45.875780Z",
     "iopub.status.busy": "2025-07-04T19:36:45.874857Z",
     "iopub.status.idle": "2025-07-04T19:36:47.183100Z",
     "shell.execute_reply": "2025-07-04T19:36:47.182065Z",
     "shell.execute_reply.started": "2025-07-04T19:36:45.875716Z"
    },
    "tags": []
   },
   "outputs": [],
   "source": [
    "desired_regions = [\"moscow city\", \"sankt-petersburg\"]\n",
    "df = df[df['region'].isin(desired_regions)]"
   ]
  },
  {
   "cell_type": "code",
   "execution_count": 11,
   "metadata": {
    "execution": {
     "iopub.execute_input": "2025-07-04T13:08:12.423242Z",
     "iopub.status.busy": "2025-07-04T13:08:12.422233Z",
     "iopub.status.idle": "2025-07-04T13:08:12.542837Z",
     "shell.execute_reply": "2025-07-04T13:08:12.541812Z",
     "shell.execute_reply.started": "2025-07-04T13:08:12.423196Z"
    },
    "tags": []
   },
   "outputs": [],
   "source": [
    "# df[\"creation_date\"]  = df[\"creation_date\"].astype('datetime64[s]')\n",
    "# df[\"dissolution_date\"]  = df[\"dissolution_date\"].astype('datetime64[s]')"
   ]
  },
  {
   "cell_type": "code",
   "execution_count": 10,
   "metadata": {
    "execution": {
     "iopub.execute_input": "2025-07-04T19:36:56.100610Z",
     "iopub.status.busy": "2025-07-04T19:36:56.099470Z",
     "iopub.status.idle": "2025-07-04T19:36:56.112750Z",
     "shell.execute_reply": "2025-07-04T19:36:56.111962Z",
     "shell.execute_reply.started": "2025-07-04T19:36:56.100551Z"
    },
    "tags": []
   },
   "outputs": [
    {
     "data": {
      "text/plain": [
       "857855"
      ]
     },
     "execution_count": 10,
     "metadata": {},
     "output_type": "execute_result"
    }
   ],
   "source": [
    "len(df)"
   ]
  },
  {
   "cell_type": "code",
   "execution_count": 59,
   "metadata": {
    "execution": {
     "iopub.execute_input": "2025-07-04T22:25:30.480270Z",
     "iopub.status.busy": "2025-07-04T22:25:30.479076Z",
     "iopub.status.idle": "2025-07-04T22:25:31.340189Z",
     "shell.execute_reply": "2025-07-04T22:25:31.339255Z",
     "shell.execute_reply.started": "2025-07-04T22:25:30.480230Z"
    }
   },
   "outputs": [],
   "source": [
    "desired_okved_codes = [\"moscow city\", \"sankt-petersburg\"]\n",
    "df = df[df['region'].isin(desired_regions)]"
   ]
  },
  {
   "cell_type": "code",
   "execution_count": 60,
   "metadata": {
    "execution": {
     "iopub.execute_input": "2025-07-04T22:26:28.762851Z",
     "iopub.status.busy": "2025-07-04T22:26:28.761766Z",
     "iopub.status.idle": "2025-07-04T22:26:28.824335Z",
     "shell.execute_reply": "2025-07-04T22:26:28.823538Z",
     "shell.execute_reply.started": "2025-07-04T22:26:28.762815Z"
    }
   },
   "outputs": [
    {
     "data": {
      "text/plain": [
       "region\n",
       "moscow city         636471\n",
       "sankt-petersburg    221384\n",
       "Name: count, dtype: int64"
      ]
     },
     "execution_count": 60,
     "metadata": {},
     "output_type": "execute_result"
    }
   ],
   "source": [
    "df['region'].value_counts()"
   ]
  },
  {
   "cell_type": "code",
   "execution_count": 62,
   "metadata": {
    "execution": {
     "iopub.execute_input": "2025-07-04T22:31:29.789339Z",
     "iopub.status.busy": "2025-07-04T22:31:29.788140Z",
     "iopub.status.idle": "2025-07-04T22:31:29.832204Z",
     "shell.execute_reply": "2025-07-04T22:31:29.831215Z",
     "shell.execute_reply.started": "2025-07-04T22:31:29.789285Z"
    },
    "tags": []
   },
   "outputs": [
    {
     "data": {
      "text/html": [
       "<div>\n",
       "<style scoped>\n",
       "    .dataframe tbody tr th:only-of-type {\n",
       "        vertical-align: middle;\n",
       "    }\n",
       "\n",
       "    .dataframe tbody tr th {\n",
       "        vertical-align: top;\n",
       "    }\n",
       "\n",
       "    .dataframe thead th {\n",
       "        text-align: right;\n",
       "    }\n",
       "</style>\n",
       "<table border=\"1\" class=\"dataframe\">\n",
       "  <thead>\n",
       "    <tr style=\"text-align: right;\">\n",
       "      <th></th>\n",
       "      <th>lon</th>\n",
       "      <th>lat</th>\n",
       "    </tr>\n",
       "  </thead>\n",
       "  <tbody>\n",
       "    <tr>\n",
       "      <th>0</th>\n",
       "      <td>None</td>\n",
       "      <td>None</td>\n",
       "    </tr>\n",
       "    <tr>\n",
       "      <th>1</th>\n",
       "      <td>40.07343925</td>\n",
       "      <td>44.57599055</td>\n",
       "    </tr>\n",
       "    <tr>\n",
       "      <th>2</th>\n",
       "      <td>37.5078654</td>\n",
       "      <td>55.676076</td>\n",
       "    </tr>\n",
       "    <tr>\n",
       "      <th>3</th>\n",
       "      <td>38.1736313</td>\n",
       "      <td>55.6111678</td>\n",
       "    </tr>\n",
       "    <tr>\n",
       "      <th>4</th>\n",
       "      <td>37.6174782</td>\n",
       "      <td>55.7505412</td>\n",
       "    </tr>\n",
       "  </tbody>\n",
       "</table>\n",
       "</div>"
      ],
      "text/plain": [
       "           lon          lat\n",
       "0         None         None\n",
       "1  40.07343925  44.57599055\n",
       "2   37.5078654    55.676076\n",
       "3   38.1736313   55.6111678\n",
       "4   37.6174782   55.7505412"
      ]
     },
     "execution_count": 62,
     "metadata": {},
     "output_type": "execute_result"
    }
   ],
   "source": [
    "coordinates_df = df[['lon', 'lat']].head(5000).reset_index(drop=True)\n",
    "coordinates_df.head()"
   ]
  },
  {
   "cell_type": "code",
   "execution_count": 63,
   "metadata": {
    "execution": {
     "iopub.execute_input": "2025-07-04T22:31:53.231572Z",
     "iopub.status.busy": "2025-07-04T22:31:53.230293Z",
     "iopub.status.idle": "2025-07-04T22:31:53.255975Z",
     "shell.execute_reply": "2025-07-04T22:31:53.255233Z",
     "shell.execute_reply.started": "2025-07-04T22:31:53.231507Z"
    }
   },
   "outputs": [],
   "source": [
    "coordinates_df.to_csv('coordinates.csv', index=False)"
   ]
  },
  {
   "cell_type": "code",
   "execution_count": null,
   "metadata": {},
   "outputs": [],
   "source": []
  },
  {
   "cell_type": "code",
   "execution_count": null,
   "metadata": {},
   "outputs": [],
   "source": []
  },
  {
   "cell_type": "code",
   "execution_count": null,
   "metadata": {},
   "outputs": [],
   "source": []
  },
  {
   "cell_type": "code",
   "execution_count": null,
   "metadata": {
    "execution": {
     "iopub.status.busy": "2025-07-04T18:57:58.430441188Z",
     "iopub.status.idle": "2025-07-04T18:57:58.431670006Z",
     "shell.execute_reply": "2025-07-04T18:57:58.430396165Z"
    },
    "tags": []
   },
   "outputs": [
    {
     "ename": "Unknown instance spec",
     "evalue": "Please select VM configuration",
     "output_type": "error",
     "traceback": []
    }
   ],
   "source": [
    "df.to_parquet('fixed_data_4.parquet', engine='fastparquet', compression='snappy')"
   ]
  },
  {
   "cell_type": "code",
   "execution_count": 1,
   "metadata": {
    "execution": {
     "iopub.execute_input": "2025-07-06T19:56:01.886393Z",
     "iopub.status.busy": "2025-07-06T19:56:01.885019Z",
     "iopub.status.idle": "2025-07-06T19:57:10.824455Z",
     "shell.execute_reply": "2025-07-06T19:57:10.823391Z",
     "shell.execute_reply.started": "2025-07-06T19:56:01.886347Z"
    },
    "tags": []
   },
   "outputs": [],
   "source": [
    "# %pip install boto3 if needed\n",
    "# set os environment variables aws_access_key_id and aws_secret_access_key\n",
    "\n",
    "export = True\n",
    "\n",
    "if export:\n",
    "    import os\n",
    "    import boto3\n",
    "\n",
    "\n",
    "    def upload_file(src_file: str, bucket: str, dist_directory: str) -> None:\n",
    "        client.upload_file(src_file, bucket, os.path.join(dist_directory, os.path.basename(src_file)))\n",
    "\n",
    "\n",
    "    S3_CREDS = {\n",
    "        \"aws_access_key_id\": 'YCAJEfM_nw4JeEZgAJlu_YtHq',\n",
    "        \"aws_secret_access_key\": 'YCN-CkLzGKTTRC70Xla3uCyDYGUrQGIuDHAulWQ3'\n",
    "    }\n",
    "\n",
    "    bucket = \"bucket-datalens-test-abacaba\"\n",
    "    dist_directory = \"\"\n",
    "    src_file = '/home/jupyter/datasphere/project/205.parquet'\n",
    "\n",
    "    client = boto3.client(\n",
    "        service_name='s3',\n",
    "        endpoint_url='https://storage.yandexcloud.net',\n",
    "        **S3_CREDS)\n",
    "\n",
    "    upload_file(src_file, bucket, dist_directory)\n"
   ]
  },
  {
   "cell_type": "code",
   "execution_count": null,
   "metadata": {},
   "outputs": [],
   "source": []
  }
 ],
 "metadata": {
  "kernelspec": {
   "display_name": "DataSphere Kernel",
   "language": "python",
   "name": "python3"
  },
  "language_info": {
   "codemirror_mode": {
    "name": "ipython",
    "version": 3
   },
   "file_extension": ".py",
   "mimetype": "text/x-python",
   "name": "python",
   "nbconvert_exporter": "python",
   "pygments_lexer": "ipython3",
   "version": "3.10.12"
  },
  "notebookId": "e5440af3-7591-406d-9891-a14b07f7558f",
  "notebookPath": "dataflow_en.ipynb",
  "ydsNotebookPath": "dataflow_ru.ipynb"
 },
 "nbformat": 4,
 "nbformat_minor": 4
}
